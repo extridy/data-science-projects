{
 "cells": [
  {
   "cell_type": "markdown",
   "metadata": {},
   "source": [
    "# Отток клиентов"
   ]
  },
  {
   "cell_type": "markdown",
   "metadata": {},
   "source": [
    "Из «Бета-Банка» стали уходить клиенты. Каждый месяц. Немного, но заметно. Банковские маркетологи посчитали: сохранять текущих клиентов дешевле, чем привлекать новых.\n",
    "\n",
    "Нужно спрогнозировать, уйдёт клиент из банка в ближайшее время или нет. Вам предоставлены исторические данные о поведении клиентов и расторжении договоров с банком. \n",
    "\n",
    "Постройте модель с предельно большим значением *F1*-меры. Чтобы сдать проект успешно, нужно довести метрику до 0.59. Проверьте *F1*-меру на тестовой выборке самостоятельно.\n",
    "\n",
    "Дополнительно измеряйте *AUC-ROC*, сравнивайте её значение с *F1*-мерой.\n",
    "\n",
    "Источник данных: [https://www.kaggle.com/barelydedicated/bank-customer-churn-modeling](https://www.kaggle.com/barelydedicated/bank-customer-churn-modeling)"
   ]
  },
  {
   "cell_type": "markdown",
   "metadata": {},
   "source": [
    "### Цель проекта   \n",
    "\n",
    "<font color = brown>**Прогнозирование ухода клиента банка в ближайшее время**</font>"
   ]
  },
  {
   "cell_type": "markdown",
   "metadata": {},
   "source": [
    "### План исследования:   \n",
    "#### 1. Предобработка данных:   \n",
    "\n",
    "- изучение общей информации методами .info(), .head();\n",
    "- проверка корректности написания имен столбцов;\n",
    "- проверка на наличие дубликатов. Удаление при необходимости;\n",
    "- проверка признаков на пропущенные значения. Замена пропущенных значений;\n",
    "- проверка и при необходимости замена типов данных столбцов;\n",
    "- вывод по разделу.  \n",
    "\n",
    "#### 2. Подготовка данных для обучения моделей:   \n",
    "\n",
    "- удаление избыточных признаков;\n",
    "- преобразование категориальных признаков в количественные методами One-Hot-Encoding, Ordinal Encoding;\n",
    "- построение диаграм для визуальной оценки распределений признаков;\n",
    "- вывод по разделу.  \n",
    "\n",
    "#### 3. Исследование задачи:   \n",
    "\n",
    "- разбивка исходного датасета на обучающую, проверочную и тестовую выборки;\n",
    "- обучение модели \"решающее дерево с разным значение гиперпараметра \"глубина\";\n",
    "- обучение модели \"лес деревьев\" с разным значение гиперпараметра \"кол.-во деревьев\";\n",
    "- обучение модели \"логистическая регрессия\" ;\n",
    "- выбор итоговой модели из сравнения значений метрик f1 и auc-roc;\n",
    "- вывод по разделу.  \n",
    "\n",
    "#### 4. Борьба с дисбалансом классов:\n",
    "\n",
    "- примнение метода upsampling;\n",
    "- примнение метода downsampling;\n",
    "- повторное обучение моделей на сбалансированных данных;\n",
    "- вывод по разделу. \n",
    "\n",
    "#### 4. Проверка выбранной модели на тестовой выборке.   \n",
    "\n",
    "#### 5. Общий вывод."
   ]
  },
  {
   "cell_type": "code",
   "execution_count": 49,
   "metadata": {},
   "outputs": [],
   "source": [
    "# Импорт необходимых библиотек\n",
    "\n",
    "import pandas as pd\n",
    "import numpy as np\n",
    "\n",
    "from matplotlib import pyplot as plt\n",
    "%matplotlib inline\n",
    "import seaborn as sns\n",
    "\n",
    "import sklearn\n",
    "from sklearn.model_selection import train_test_split\n",
    "\n",
    "from sklearn.tree import DecisionTreeClassifier\n",
    "from sklearn.ensemble import RandomForestClassifier\n",
    "from sklearn.linear_model import LogisticRegression\n",
    "from sklearn.utils import shuffle\n",
    "from sklearn.preprocessing import OneHotEncoder, OrdinalEncoder\n",
    "\n",
    "from sklearn.metrics import f1_score\n",
    "from sklearn.metrics import roc_curve\n",
    "from sklearn.metrics import roc_auc_score\n",
    "\n",
    "import warnings\n",
    "warnings.filterwarnings(\"ignore\")"
   ]
  },
  {
   "cell_type": "markdown",
   "metadata": {},
   "source": [
    "### 1. Предобработка данных"
   ]
  },
  {
   "cell_type": "code",
   "execution_count": 50,
   "metadata": {},
   "outputs": [
    {
     "data": {
      "text/html": [
       "<div>\n",
       "<style scoped>\n",
       "    .dataframe tbody tr th:only-of-type {\n",
       "        vertical-align: middle;\n",
       "    }\n",
       "\n",
       "    .dataframe tbody tr th {\n",
       "        vertical-align: top;\n",
       "    }\n",
       "\n",
       "    .dataframe thead th {\n",
       "        text-align: right;\n",
       "    }\n",
       "</style>\n",
       "<table border=\"1\" class=\"dataframe\">\n",
       "  <thead>\n",
       "    <tr style=\"text-align: right;\">\n",
       "      <th></th>\n",
       "      <th>RowNumber</th>\n",
       "      <th>CustomerId</th>\n",
       "      <th>Surname</th>\n",
       "      <th>CreditScore</th>\n",
       "      <th>Geography</th>\n",
       "      <th>Gender</th>\n",
       "      <th>Age</th>\n",
       "      <th>Tenure</th>\n",
       "      <th>Balance</th>\n",
       "      <th>NumOfProducts</th>\n",
       "      <th>HasCrCard</th>\n",
       "      <th>IsActiveMember</th>\n",
       "      <th>EstimatedSalary</th>\n",
       "      <th>Exited</th>\n",
       "    </tr>\n",
       "  </thead>\n",
       "  <tbody>\n",
       "    <tr>\n",
       "      <td>0</td>\n",
       "      <td>1</td>\n",
       "      <td>15634602</td>\n",
       "      <td>Hargrave</td>\n",
       "      <td>619</td>\n",
       "      <td>France</td>\n",
       "      <td>Female</td>\n",
       "      <td>42</td>\n",
       "      <td>2.0</td>\n",
       "      <td>0.00</td>\n",
       "      <td>1</td>\n",
       "      <td>1</td>\n",
       "      <td>1</td>\n",
       "      <td>101348.88</td>\n",
       "      <td>1</td>\n",
       "    </tr>\n",
       "    <tr>\n",
       "      <td>1</td>\n",
       "      <td>2</td>\n",
       "      <td>15647311</td>\n",
       "      <td>Hill</td>\n",
       "      <td>608</td>\n",
       "      <td>Spain</td>\n",
       "      <td>Female</td>\n",
       "      <td>41</td>\n",
       "      <td>1.0</td>\n",
       "      <td>83807.86</td>\n",
       "      <td>1</td>\n",
       "      <td>0</td>\n",
       "      <td>1</td>\n",
       "      <td>112542.58</td>\n",
       "      <td>0</td>\n",
       "    </tr>\n",
       "    <tr>\n",
       "      <td>2</td>\n",
       "      <td>3</td>\n",
       "      <td>15619304</td>\n",
       "      <td>Onio</td>\n",
       "      <td>502</td>\n",
       "      <td>France</td>\n",
       "      <td>Female</td>\n",
       "      <td>42</td>\n",
       "      <td>8.0</td>\n",
       "      <td>159660.80</td>\n",
       "      <td>3</td>\n",
       "      <td>1</td>\n",
       "      <td>0</td>\n",
       "      <td>113931.57</td>\n",
       "      <td>1</td>\n",
       "    </tr>\n",
       "    <tr>\n",
       "      <td>3</td>\n",
       "      <td>4</td>\n",
       "      <td>15701354</td>\n",
       "      <td>Boni</td>\n",
       "      <td>699</td>\n",
       "      <td>France</td>\n",
       "      <td>Female</td>\n",
       "      <td>39</td>\n",
       "      <td>1.0</td>\n",
       "      <td>0.00</td>\n",
       "      <td>2</td>\n",
       "      <td>0</td>\n",
       "      <td>0</td>\n",
       "      <td>93826.63</td>\n",
       "      <td>0</td>\n",
       "    </tr>\n",
       "    <tr>\n",
       "      <td>4</td>\n",
       "      <td>5</td>\n",
       "      <td>15737888</td>\n",
       "      <td>Mitchell</td>\n",
       "      <td>850</td>\n",
       "      <td>Spain</td>\n",
       "      <td>Female</td>\n",
       "      <td>43</td>\n",
       "      <td>2.0</td>\n",
       "      <td>125510.82</td>\n",
       "      <td>1</td>\n",
       "      <td>1</td>\n",
       "      <td>1</td>\n",
       "      <td>79084.10</td>\n",
       "      <td>0</td>\n",
       "    </tr>\n",
       "  </tbody>\n",
       "</table>\n",
       "</div>"
      ],
      "text/plain": [
       "   RowNumber  CustomerId   Surname  CreditScore Geography  Gender  Age  \\\n",
       "0          1    15634602  Hargrave          619    France  Female   42   \n",
       "1          2    15647311      Hill          608     Spain  Female   41   \n",
       "2          3    15619304      Onio          502    France  Female   42   \n",
       "3          4    15701354      Boni          699    France  Female   39   \n",
       "4          5    15737888  Mitchell          850     Spain  Female   43   \n",
       "\n",
       "   Tenure    Balance  NumOfProducts  HasCrCard  IsActiveMember  \\\n",
       "0     2.0       0.00              1          1               1   \n",
       "1     1.0   83807.86              1          0               1   \n",
       "2     8.0  159660.80              3          1               0   \n",
       "3     1.0       0.00              2          0               0   \n",
       "4     2.0  125510.82              1          1               1   \n",
       "\n",
       "   EstimatedSalary  Exited  \n",
       "0        101348.88       1  \n",
       "1        112542.58       0  \n",
       "2        113931.57       1  \n",
       "3         93826.63       0  \n",
       "4         79084.10       0  "
      ]
     },
     "execution_count": 50,
     "metadata": {},
     "output_type": "execute_result"
    }
   ],
   "source": [
    "data = pd.read_csv('/datasets/Churn.csv')\n",
    "data.head()"
   ]
  },
  {
   "cell_type": "code",
   "execution_count": 51,
   "metadata": {},
   "outputs": [
    {
     "name": "stdout",
     "output_type": "stream",
     "text": [
      "<class 'pandas.core.frame.DataFrame'>\n",
      "RangeIndex: 10000 entries, 0 to 9999\n",
      "Data columns (total 14 columns):\n",
      "RowNumber          10000 non-null int64\n",
      "CustomerId         10000 non-null int64\n",
      "Surname            10000 non-null object\n",
      "CreditScore        10000 non-null int64\n",
      "Geography          10000 non-null object\n",
      "Gender             10000 non-null object\n",
      "Age                10000 non-null int64\n",
      "Tenure             9091 non-null float64\n",
      "Balance            10000 non-null float64\n",
      "NumOfProducts      10000 non-null int64\n",
      "HasCrCard          10000 non-null int64\n",
      "IsActiveMember     10000 non-null int64\n",
      "EstimatedSalary    10000 non-null float64\n",
      "Exited             10000 non-null int64\n",
      "dtypes: float64(3), int64(8), object(3)\n",
      "memory usage: 1.1+ MB\n"
     ]
    }
   ],
   "source": [
    "data.info()"
   ]
  },
  {
   "cell_type": "markdown",
   "metadata": {},
   "source": [
    "<font color = brown>По итогам изучения общей информации установлено:   \n",
    "    \n",
    "- необходимость обработки пропусков в признака Tenure;   \n",
    "- имена столбцов указаны корректно;\n",
    "- признаки не содержат дубликаты;\n",
    "- типы признаков определны корректно.</font>"
   ]
  },
  {
   "cell_type": "code",
   "execution_count": 52,
   "metadata": {},
   "outputs": [],
   "source": [
    "# Заполним пропуски в признаке Tenure нулями\n",
    "data['Tenure'] = data['Tenure'].fillna(0.0)\n"
   ]
  },
  {
   "cell_type": "markdown",
   "metadata": {},
   "source": [
    "Посчитал некорректным удалять данные с пропусками, из-за того, что датасет уж больно мал. Удаление почти 10% показалось слишком опасным.   \n",
    "Нулями заполнил, потому что в прошедшую субботу так рекомендовал наставник в своем вебинаре. Изначально заполнял медианой. Логика заполенния нулями, насколько я понял, заключалась в том, что, что если признак пропущен, то скорее всего у клиента нет недвижимости. И самое главное, что график распределения становился более выроненным по краям.   \n",
    "График ниже.   \n",
    "\n",
    "К сожалению, не знаком методами вывода важностии факторов :( Не мог бы объяснить чуть подробнее на примере?"
   ]
  },
  {
   "cell_type": "code",
   "execution_count": 53,
   "metadata": {},
   "outputs": [
    {
     "data": {
      "image/png": "[encoded data removed]",
      "text/plain": [
       "<Figure size 432x288 with 1 Axes>"
      ]
     },
     "metadata": {
      "needs_background": "light"
     },
     "output_type": "display_data"
    }
   ],
   "source": [
    "data['Tenure'].hist();"
   ]
  },
  {
   "cell_type": "code",
   "execution_count": 54,
   "metadata": {},
   "outputs": [
    {
     "name": "stdout",
     "output_type": "stream",
     "text": [
      "<class 'pandas.core.frame.DataFrame'>\n",
      "RangeIndex: 10000 entries, 0 to 9999\n",
      "Data columns (total 14 columns):\n",
      "RowNumber          10000 non-null int64\n",
      "CustomerId         10000 non-null int64\n",
      "Surname            10000 non-null object\n",
      "CreditScore        10000 non-null int64\n",
      "Geography          10000 non-null object\n",
      "Gender             10000 non-null object\n",
      "Age                10000 non-null int64\n",
      "Tenure             10000 non-null float64\n",
      "Balance            10000 non-null float64\n",
      "NumOfProducts      10000 non-null int64\n",
      "HasCrCard          10000 non-null int64\n",
      "IsActiveMember     10000 non-null int64\n",
      "EstimatedSalary    10000 non-null float64\n",
      "Exited             10000 non-null int64\n",
      "dtypes: float64(3), int64(8), object(3)\n",
      "memory usage: 1.1+ MB\n"
     ]
    }
   ],
   "source": [
    "# Проверим на отсуствие пропусков\n",
    "data.info()"
   ]
  },
  {
   "cell_type": "code",
   "execution_count": 55,
   "metadata": {},
   "outputs": [
    {
     "data": {
      "text/plain": [
       "0"
      ]
     },
     "execution_count": 55,
     "metadata": {},
     "output_type": "execute_result"
    }
   ],
   "source": [
    "# Проверим дубликаты\n",
    "data.duplicated().sum()"
   ]
  },
  {
   "cell_type": "markdown",
   "metadata": {},
   "source": [
    "### 2. Подготовка данных для обучения моделей:  "
   ]
  },
  {
   "cell_type": "code",
   "execution_count": 56,
   "metadata": {},
   "outputs": [],
   "source": [
    "# Удалим лишние избыточные неинформативные признаки\n",
    "data.drop(['CustomerId', 'Surname', 'RowNumber'], axis = 1, inplace = True)"
   ]
  },
  {
   "cell_type": "markdown",
   "metadata": {},
   "source": [
    "<font color='blue'><u><b>КОММЕНТАРИЙ РЕВЬЮЕРА</b></u></font><br />\n",
    "<font color='green'>\n",
    "ок)"
   ]
  },
  {
   "cell_type": "code",
   "execution_count": 57,
   "metadata": {},
   "outputs": [
    {
     "data": {
      "text/plain": [
       "Male      5457\n",
       "Female    4543\n",
       "Name: Gender, dtype: int64"
      ]
     },
     "execution_count": 57,
     "metadata": {},
     "output_type": "execute_result"
    }
   ],
   "source": [
    "# Посмотрим на наполнение признака 'Gender'\n",
    "data['Gender'].value_counts()\n"
   ]
  },
  {
   "cell_type": "code",
   "execution_count": 58,
   "metadata": {},
   "outputs": [],
   "source": [
    "# Преобразуем значения признака 'Gender' чиловые значения\n",
    "data['Gender'] = data['Gender'].map({'Male' : 0, 'Female' : 1})"
   ]
  },
  {
   "cell_type": "code",
   "execution_count": 59,
   "metadata": {},
   "outputs": [
    {
     "data": {
      "text/html": [
       "<div>\n",
       "<style scoped>\n",
       "    .dataframe tbody tr th:only-of-type {\n",
       "        vertical-align: middle;\n",
       "    }\n",
       "\n",
       "    .dataframe tbody tr th {\n",
       "        vertical-align: top;\n",
       "    }\n",
       "\n",
       "    .dataframe thead th {\n",
       "        text-align: right;\n",
       "    }\n",
       "</style>\n",
       "<table border=\"1\" class=\"dataframe\">\n",
       "  <thead>\n",
       "    <tr style=\"text-align: right;\">\n",
       "      <th></th>\n",
       "      <th>Germany</th>\n",
       "      <th>Spain</th>\n",
       "    </tr>\n",
       "  </thead>\n",
       "  <tbody>\n",
       "    <tr>\n",
       "      <td>0</td>\n",
       "      <td>0</td>\n",
       "      <td>0</td>\n",
       "    </tr>\n",
       "    <tr>\n",
       "      <td>1</td>\n",
       "      <td>0</td>\n",
       "      <td>1</td>\n",
       "    </tr>\n",
       "    <tr>\n",
       "      <td>2</td>\n",
       "      <td>0</td>\n",
       "      <td>0</td>\n",
       "    </tr>\n",
       "    <tr>\n",
       "      <td>3</td>\n",
       "      <td>0</td>\n",
       "      <td>0</td>\n",
       "    </tr>\n",
       "    <tr>\n",
       "      <td>4</td>\n",
       "      <td>0</td>\n",
       "      <td>1</td>\n",
       "    </tr>\n",
       "  </tbody>\n",
       "</table>\n",
       "</div>"
      ],
      "text/plain": [
       "   Germany  Spain\n",
       "0        0      0\n",
       "1        0      1\n",
       "2        0      0\n",
       "3        0      0\n",
       "4        0      1"
      ]
     },
     "execution_count": 59,
     "metadata": {},
     "output_type": "execute_result"
    }
   ],
   "source": [
    "# Преобразуем методами One-Hot Encoding и Ordinal Encoding столбец 'Geography' \n",
    "\n",
    "# One-Hot Encoding\n",
    "geo_ohe = pd.get_dummies(data['Geography'], drop_first = True)\n",
    "geo_ohe = pd.DataFrame(geo_ohe, columns = geo_ohe.columns)\n",
    "geo_ohe.head()"
   ]
  },
  {
   "cell_type": "code",
   "execution_count": 60,
   "metadata": {},
   "outputs": [
    {
     "data": {
      "text/html": [
       "<div>\n",
       "<style scoped>\n",
       "    .dataframe tbody tr th:only-of-type {\n",
       "        vertical-align: middle;\n",
       "    }\n",
       "\n",
       "    .dataframe tbody tr th {\n",
       "        vertical-align: top;\n",
       "    }\n",
       "\n",
       "    .dataframe thead th {\n",
       "        text-align: right;\n",
       "    }\n",
       "</style>\n",
       "<table border=\"1\" class=\"dataframe\">\n",
       "  <thead>\n",
       "    <tr style=\"text-align: right;\">\n",
       "      <th></th>\n",
       "      <th>Geography</th>\n",
       "    </tr>\n",
       "  </thead>\n",
       "  <tbody>\n",
       "    <tr>\n",
       "      <td>0</td>\n",
       "      <td>0.0</td>\n",
       "    </tr>\n",
       "    <tr>\n",
       "      <td>1</td>\n",
       "      <td>2.0</td>\n",
       "    </tr>\n",
       "    <tr>\n",
       "      <td>2</td>\n",
       "      <td>0.0</td>\n",
       "    </tr>\n",
       "    <tr>\n",
       "      <td>3</td>\n",
       "      <td>0.0</td>\n",
       "    </tr>\n",
       "    <tr>\n",
       "      <td>4</td>\n",
       "      <td>2.0</td>\n",
       "    </tr>\n",
       "  </tbody>\n",
       "</table>\n",
       "</div>"
      ],
      "text/plain": [
       "   Geography\n",
       "0        0.0\n",
       "1        2.0\n",
       "2        0.0\n",
       "3        0.0\n",
       "4        2.0"
      ]
     },
     "execution_count": 60,
     "metadata": {},
     "output_type": "execute_result"
    }
   ],
   "source": [
    "# Ordinal Encoding\n",
    "\n",
    "or_encoder = OrdinalEncoder()\n",
    "geo_ord = or_encoder.fit_transform(data[['Geography']])\n",
    "geo_ord = pd.DataFrame(geo_ord, columns = ['Geography'])\n",
    "geo_ord.head()"
   ]
  },
  {
   "cell_type": "code",
   "execution_count": 61,
   "metadata": {
    "scrolled": true
   },
   "outputs": [
    {
     "data": {
      "text/html": [
       "<div>\n",
       "<style scoped>\n",
       "    .dataframe tbody tr th:only-of-type {\n",
       "        vertical-align: middle;\n",
       "    }\n",
       "\n",
       "    .dataframe tbody tr th {\n",
       "        vertical-align: top;\n",
       "    }\n",
       "\n",
       "    .dataframe thead th {\n",
       "        text-align: right;\n",
       "    }\n",
       "</style>\n",
       "<table border=\"1\" class=\"dataframe\">\n",
       "  <thead>\n",
       "    <tr style=\"text-align: right;\">\n",
       "      <th></th>\n",
       "      <th>CreditScore</th>\n",
       "      <th>Geography</th>\n",
       "      <th>Gender</th>\n",
       "      <th>Age</th>\n",
       "      <th>Tenure</th>\n",
       "      <th>Balance</th>\n",
       "      <th>NumOfProducts</th>\n",
       "      <th>HasCrCard</th>\n",
       "      <th>IsActiveMember</th>\n",
       "      <th>EstimatedSalary</th>\n",
       "      <th>Exited</th>\n",
       "      <th>Germany</th>\n",
       "      <th>Spain</th>\n",
       "    </tr>\n",
       "  </thead>\n",
       "  <tbody>\n",
       "    <tr>\n",
       "      <td>0</td>\n",
       "      <td>619</td>\n",
       "      <td>0.0</td>\n",
       "      <td>1</td>\n",
       "      <td>42</td>\n",
       "      <td>2.0</td>\n",
       "      <td>0.00</td>\n",
       "      <td>1</td>\n",
       "      <td>1</td>\n",
       "      <td>1</td>\n",
       "      <td>101348.88</td>\n",
       "      <td>1</td>\n",
       "      <td>0</td>\n",
       "      <td>0</td>\n",
       "    </tr>\n",
       "    <tr>\n",
       "      <td>1</td>\n",
       "      <td>608</td>\n",
       "      <td>2.0</td>\n",
       "      <td>1</td>\n",
       "      <td>41</td>\n",
       "      <td>1.0</td>\n",
       "      <td>83807.86</td>\n",
       "      <td>1</td>\n",
       "      <td>0</td>\n",
       "      <td>1</td>\n",
       "      <td>112542.58</td>\n",
       "      <td>0</td>\n",
       "      <td>0</td>\n",
       "      <td>1</td>\n",
       "    </tr>\n",
       "    <tr>\n",
       "      <td>2</td>\n",
       "      <td>502</td>\n",
       "      <td>0.0</td>\n",
       "      <td>1</td>\n",
       "      <td>42</td>\n",
       "      <td>8.0</td>\n",
       "      <td>159660.80</td>\n",
       "      <td>3</td>\n",
       "      <td>1</td>\n",
       "      <td>0</td>\n",
       "      <td>113931.57</td>\n",
       "      <td>1</td>\n",
       "      <td>0</td>\n",
       "      <td>0</td>\n",
       "    </tr>\n",
       "    <tr>\n",
       "      <td>3</td>\n",
       "      <td>699</td>\n",
       "      <td>0.0</td>\n",
       "      <td>1</td>\n",
       "      <td>39</td>\n",
       "      <td>1.0</td>\n",
       "      <td>0.00</td>\n",
       "      <td>2</td>\n",
       "      <td>0</td>\n",
       "      <td>0</td>\n",
       "      <td>93826.63</td>\n",
       "      <td>0</td>\n",
       "      <td>0</td>\n",
       "      <td>0</td>\n",
       "    </tr>\n",
       "    <tr>\n",
       "      <td>4</td>\n",
       "      <td>850</td>\n",
       "      <td>2.0</td>\n",
       "      <td>1</td>\n",
       "      <td>43</td>\n",
       "      <td>2.0</td>\n",
       "      <td>125510.82</td>\n",
       "      <td>1</td>\n",
       "      <td>1</td>\n",
       "      <td>1</td>\n",
       "      <td>79084.10</td>\n",
       "      <td>0</td>\n",
       "      <td>0</td>\n",
       "      <td>1</td>\n",
       "    </tr>\n",
       "  </tbody>\n",
       "</table>\n",
       "</div>"
      ],
      "text/plain": [
       "   CreditScore  Geography  Gender  Age  Tenure    Balance  NumOfProducts  \\\n",
       "0          619        0.0       1   42     2.0       0.00              1   \n",
       "1          608        2.0       1   41     1.0   83807.86              1   \n",
       "2          502        0.0       1   42     8.0  159660.80              3   \n",
       "3          699        0.0       1   39     1.0       0.00              2   \n",
       "4          850        2.0       1   43     2.0  125510.82              1   \n",
       "\n",
       "   HasCrCard  IsActiveMember  EstimatedSalary  Exited  Germany  Spain  \n",
       "0          1               1        101348.88       1        0      0  \n",
       "1          0               1        112542.58       0        0      1  \n",
       "2          1               0        113931.57       1        0      0  \n",
       "3          0               0         93826.63       0        0      0  \n",
       "4          1               1         79084.10       0        0      1  "
      ]
     },
     "execution_count": 61,
     "metadata": {},
     "output_type": "execute_result"
    }
   ],
   "source": [
    "# Добавим преобразованные признаки в первичный датасет\n",
    "\n",
    "data.loc[:, 'Geography'] = geo_ord.loc[:, 'Geography']\n",
    "data = data.join(geo_ohe)\n",
    "data.head()"
   ]
  },
  {
   "cell_type": "code",
   "execution_count": 62,
   "metadata": {},
   "outputs": [],
   "source": [
    "# sns.pairplot(data);"
   ]
  },
  {
   "cell_type": "markdown",
   "metadata": {},
   "source": [
    "<font color = brown>**В этом разделе произведена подготовка данных для дальнейшей работы с моделями.   \n",
    "Были удалены избыточные признаки, преобразованы категориальные методами One-Hot Encoding, Ordinal Encoding.   \n",
    "В зависимости от типа моделей, которые будут применяться в дальнейшем, буду удалять ненужные признаки, оставшиеся после кодировки ('Geography', 'France', 'Germany', 'Spain').**\n",
    "\n",
    "**Визуализация гистаграмм и диаграмм рассеивания практически не дала никакой информации, кроме того, что классы целевого признака сильно разбалансированы**</font>"
   ]
  },
  {
   "cell_type": "markdown",
   "metadata": {},
   "source": [
    "### 3. Исследование задачи"
   ]
  },
  {
   "cell_type": "code",
   "execution_count": 63,
   "metadata": {},
   "outputs": [],
   "source": [
    "x = data.drop(['Exited'], axis = 1)\n",
    "y = data['Exited']"
   ]
  },
  {
   "cell_type": "code",
   "execution_count": 64,
   "metadata": {},
   "outputs": [],
   "source": [
    "# Разделяем выборку на обучающую, проверочную и тестовую\n",
    "\n",
    "x_train, x_valid, y_train, y_valid = train_test_split(x, y, test_size = 0.4, random_state = 12345)\n",
    "x_valid, x_test, y_valid, y_test = train_test_split(x_valid, y_valid, test_size = 0.5, random_state = 12345)\n"
   ]
  },
  {
   "cell_type": "code",
   "execution_count": 65,
   "metadata": {},
   "outputs": [
    {
     "data": {
      "text/plain": [
       "((6000, 12), (2000, 12), (2000, 12))"
      ]
     },
     "execution_count": 65,
     "metadata": {},
     "output_type": "execute_result"
    }
   ],
   "source": [
    "x_train.shape, x_valid.shape, x_test.shape"
   ]
  },
  {
   "cell_type": "code",
   "execution_count": 66,
   "metadata": {},
   "outputs": [
    {
     "name": "stdout",
     "output_type": "stream",
     "text": [
      "max_depth =  1 f1_score :  0.0 , auc_roc :  0.69\n",
      "max_depth =  5 f1_score :  0.52 , auc_roc :  0.82\n",
      "max_depth =  9 f1_score :  0.53 , auc_roc :  0.76\n",
      "max_depth =  13 f1_score :  0.49 , auc_roc :  0.68\n",
      "max_depth =  17 f1_score :  0.46 , auc_roc :  0.66\n",
      "max_depth =  21 f1_score :  0.46 , auc_roc :  0.66\n",
      "max_depth =  25 f1_score :  0.46 , auc_roc :  0.66\n",
      "max_depth =  29 f1_score :  0.46 , auc_roc :  0.66\n",
      "max_depth =  33 f1_score :  0.46 , auc_roc :  0.66\n",
      "max_depth =  37 f1_score :  0.46 , auc_roc :  0.66\n"
     ]
    }
   ],
   "source": [
    "# Дерево решений\n",
    "\n",
    "for i in range (1, 40, 4):\n",
    "    DecTree = DecisionTreeClassifier(random_state=12345, max_depth = i)\n",
    "    DecTree.fit(x_train.drop(['Germany', 'Spain'], axis = 1), y_train)\n",
    "    predictions = DecTree.predict(x_valid.drop(['Germany', 'Spain'], axis = 1))\n",
    "    \n",
    "    probabilities_valid = DecTree.predict_proba(x_valid.drop(['Germany', 'Spain'], axis = 1))\n",
    "    probabilities_one_valid = probabilities_valid[:, 1]\n",
    "\n",
    "    auc_roc = round(roc_auc_score(y_valid, probabilities_one_valid), 2)    \n",
    "    \n",
    "    print('max_depth = ', i, 'f1_score : ', round(f1_score(y_valid,predictions), 2), ', auc_roc : ', auc_roc)"
   ]
  },
  {
   "cell_type": "code",
   "execution_count": 67,
   "metadata": {},
   "outputs": [
    {
     "name": "stdout",
     "output_type": "stream",
     "text": [
      "Кол. - во голосов:  1 f1_score :  0.5 , auc_roc :  0.68\n",
      "Кол. - во голосов:  11 f1_score :  0.55 , auc_roc :  0.81\n",
      "Кол. - во голосов:  21 f1_score :  0.56 , auc_roc :  0.82\n",
      "Кол. - во голосов:  31 f1_score :  0.56 , auc_roc :  0.82\n",
      "Кол. - во голосов:  41 f1_score :  0.56 , auc_roc :  0.83\n",
      "Кол. - во голосов:  51 f1_score :  0.56 , auc_roc :  0.83\n",
      "Кол. - во голосов:  61 f1_score :  0.56 , auc_roc :  0.83\n",
      "Кол. - во голосов:  71 f1_score :  0.56 , auc_roc :  0.83\n",
      "Кол. - во голосов:  81 f1_score :  0.57 , auc_roc :  0.83\n",
      "Кол. - во голосов:  91 f1_score :  0.56 , auc_roc :  0.83\n",
      "Кол. - во голосов:  101 f1_score :  0.57 , auc_roc :  0.83\n",
      "Кол. - во голосов:  111 f1_score :  0.57 , auc_roc :  0.83\n",
      "Кол. - во голосов:  121 f1_score :  0.56 , auc_roc :  0.83\n",
      "Кол. - во голосов:  131 f1_score :  0.56 , auc_roc :  0.83\n",
      "Кол. - во голосов:  141 f1_score :  0.56 , auc_roc :  0.84\n"
     ]
    }
   ],
   "source": [
    "# Случайный лес\n",
    "\n",
    "for i in range(1, 150,10):\n",
    "    RndForest = RandomForestClassifier(random_state=12345, n_estimators = i)\n",
    "    RndForest.fit(x_train.drop(['Germany', 'Spain'], axis = 1), y_train)\n",
    "    \n",
    "    probabilities_valid = RndForest.predict_proba(x_valid.drop(['Germany', 'Spain'], axis = 1))\n",
    "    probabilities_one_valid = probabilities_valid[:, 1]\n",
    "\n",
    "    auc_roc = round(roc_auc_score(y_valid, probabilities_one_valid), 2)\n",
    "    \n",
    "    predictions = RndForest.predict(x_valid.drop(['Germany', 'Spain'], axis = 1))\n",
    "    print('Кол. - во голосов: ', i, 'f1_score : ', round(f1_score(y_valid,predictions), 2), ', auc_roc : ', auc_roc)"
   ]
  },
  {
   "cell_type": "code",
   "execution_count": 68,
   "metadata": {},
   "outputs": [
    {
     "name": "stdout",
     "output_type": "stream",
     "text": [
      "f1_score :  0.08 , auc_roc :  0.67\n"
     ]
    }
   ],
   "source": [
    "# Логистическая регрессия\n",
    "\n",
    "LogReg = LogisticRegression(random_state=12345, solver='liblinear')\n",
    "LogReg.fit(x_train.drop(['Geography'], axis = 1) , y_train)\n",
    "predictions = LogReg.predict(x_valid.drop(['Geography'], axis = 1))\n",
    "\n",
    "probabilities_valid = LogReg.predict_proba(x_valid.drop(['Geography'], axis = 1))\n",
    "probabilities_one_valid = probabilities_valid[:, 1]\n",
    "\n",
    "auc_roc = round(roc_auc_score(y_valid, probabilities_one_valid), 2)\n",
    "\n",
    "print('f1_score : ', round(f1_score(y_valid,predictions), 2), ', auc_roc : ', auc_roc)"
   ]
  },
  {
   "cell_type": "markdown",
   "metadata": {},
   "source": [
    "Исправил. Как написал в предыдущем комментарии, не забыл, а не понял суть.   \n",
    "Спасибо, Николай!"
   ]
  },
  {
   "cell_type": "markdown",
   "metadata": {},
   "source": [
    "<font color = brown>**По итогам обучения разных моделей с перебором гиперпараметров лучшие результаты на совокупнсти метрик f1 и auc-roc показала модель \"Случайный лес\" с параметром n_estimators равным 100**</font>"
   ]
  },
  {
   "cell_type": "markdown",
   "metadata": {},
   "source": [
    "### 3. Борьба с дисбалансом"
   ]
  },
  {
   "cell_type": "code",
   "execution_count": 117,
   "metadata": {},
   "outputs": [
    {
     "data": {
      "text/plain": [
       "4"
      ]
     },
     "execution_count": 117,
     "metadata": {},
     "output_type": "execute_result"
    }
   ],
   "source": [
    "# Посчитаем отношение в значениях между целевыми классами\n",
    "\n",
    "ex_0_index = data[data['Exited'] == 0].index\n",
    "ex_1_index = data[data['Exited'] == 1].index\n",
    "\n",
    "repeat = int(round(ex_0.shape[0] / ex_1.shape[0],0))\n",
    "repeat"
   ]
  },
  {
   "cell_type": "code",
   "execution_count": 119,
   "metadata": {},
   "outputs": [],
   "source": [
    "# Создаем функции для балансировки.\n",
    "\n",
    "def upsample(features, target, repeat):\n",
    "    features_zeros = features[target == 0]\n",
    "    features_ones = features[target == 1]\n",
    "    target_zeros = target[target == 0]\n",
    "    target_ones = target[target == 1]\n",
    "\n",
    "    features_upsampled = pd.concat([features_zeros] + [features_ones] * repeat)\n",
    "    target_upsampled = pd.concat([target_zeros] + [target_ones] * repeat)\n",
    "    \n",
    "    features_upsampled, target_upsampled = shuffle(\n",
    "        features_upsampled, target_upsampled, random_state=12345)\n",
    "    \n",
    "    return features_upsampled, target_upsampled\n",
    "\n",
    "\n",
    "def downsample(features, target, fraction):\n",
    "    features_zeros = features[target == 0]\n",
    "    features_ones = features[target == 1]\n",
    "    target_zeros = target[target == 0]\n",
    "    target_ones = target[target == 1]\n",
    "\n",
    "    features_downsampled = pd.concat(\n",
    "        [features_zeros.sample(frac=fraction, random_state=12345)] + [features_ones])\n",
    "    target_downsampled = pd.concat(\n",
    "        [target_zeros.sample(frac=fraction, random_state=12345)] + [target_ones])\n",
    "    \n",
    "    features_downsampled, target_downsampled = shuffle(\n",
    "        features_downsampled, target_downsampled, random_state=12345)\n",
    "    \n",
    "    return features_downsampled, target_downsampled"
   ]
  },
  {
   "cell_type": "code",
   "execution_count": 120,
   "metadata": {},
   "outputs": [
    {
     "data": {
      "text/plain": [
       "((9588, 12), (9588,))"
      ]
     },
     "execution_count": 120,
     "metadata": {},
     "output_type": "execute_result"
    }
   ],
   "source": [
    "# Создаем датасет upsampling\n",
    "x_ups, y_ups = upsample(x_train, y_train, repeat)\n",
    "x_ups.shape, y_ups.shape\n"
   ]
  },
  {
   "cell_type": "code",
   "execution_count": 121,
   "metadata": {},
   "outputs": [
    {
     "data": {
      "image/png": "[encoded data removed]",
      "text/plain": [
       "<Figure size 432x288 with 1 Axes>"
      ]
     },
     "metadata": {
      "needs_background": "light"
     },
     "output_type": "display_data"
    }
   ],
   "source": [
    "# Проверяем результат\n",
    "y_ups.hist();"
   ]
  },
  {
   "cell_type": "code",
   "execution_count": 123,
   "metadata": {},
   "outputs": [
    {
     "data": {
      "text/plain": [
       "((2397, 12), (2397,))"
      ]
     },
     "execution_count": 123,
     "metadata": {},
     "output_type": "execute_result"
    }
   ],
   "source": [
    "# Создаем датасет downsampling\n",
    "x_dws, y_dws = downsample(x_train, y_train, 1 / repeat)\n",
    "x_dws.shape, y_dws.shape"
   ]
  },
  {
   "cell_type": "code",
   "execution_count": 124,
   "metadata": {},
   "outputs": [
    {
     "data": {
      "image/png": "[encoded data removed]",
      "text/plain": [
       "<Figure size 432x288 with 1 Axes>"
      ]
     },
     "metadata": {
      "needs_background": "light"
     },
     "output_type": "display_data"
    }
   ],
   "source": [
    "# Проверяем результат\n",
    "y_dws.hist();"
   ]
  },
  {
   "cell_type": "markdown",
   "metadata": {},
   "source": [
    "### 3.4. Обучение моделей"
   ]
  },
  {
   "cell_type": "markdown",
   "metadata": {},
   "source": [
    "#### Upsampling"
   ]
  },
  {
   "cell_type": "code",
   "execution_count": 131,
   "metadata": {},
   "outputs": [
    {
     "name": "stdout",
     "output_type": "stream",
     "text": [
      "max_depth =  1 f1_score :  0.5 , auc_roc :  0.69\n",
      "max_depth =  5 f1_score :  0.59 , auc_roc :  0.82\n",
      "max_depth =  9 f1_score :  0.53 , auc_roc :  0.76\n",
      "max_depth =  13 f1_score :  0.48 , auc_roc :  0.69\n",
      "max_depth =  17 f1_score :  0.47 , auc_roc :  0.67\n",
      "max_depth =  21 f1_score :  0.47 , auc_roc :  0.67\n",
      "max_depth =  25 f1_score :  0.47 , auc_roc :  0.67\n",
      "max_depth =  29 f1_score :  0.47 , auc_roc :  0.67\n",
      "max_depth =  33 f1_score :  0.47 , auc_roc :  0.67\n",
      "max_depth =  37 f1_score :  0.47 , auc_roc :  0.67\n"
     ]
    }
   ],
   "source": [
    "# Дерево решений\n",
    "\n",
    "for i in range (1, 40, 4):\n",
    "    DecTree_upsampling = DecisionTreeClassifier(random_state=12345, max_depth = i)\n",
    "    DecTree_upsampling.fit(x_ups.drop(['Germany', 'Spain'], axis = 1), y_ups)\n",
    "    \n",
    "    predictions = DecTree_upsampling.predict(x_valid.drop(['Germany', 'Spain'], axis = 1))\n",
    "    \n",
    "    probabilities_valid = DecTree_upsampling.predict_proba(x_valid.drop(['Germany', 'Spain'], axis = 1))\n",
    "    probabilities_one_valid = probabilities_valid[:, 1]\n",
    "\n",
    "    auc_roc = round(roc_auc_score(y_valid, probabilities_one_valid), 2)    \n",
    "    \n",
    "    print('max_depth = ', i, 'f1_score : ', round(f1_score(y_valid,predictions), 2), ', auc_roc : ', auc_roc)"
   ]
  },
  {
   "cell_type": "code",
   "execution_count": 132,
   "metadata": {
    "scrolled": true
   },
   "outputs": [
    {
     "name": "stdout",
     "output_type": "stream",
     "text": [
      "Кол. - во голосов:  1 f1_score :  0.49 , auc_roc :  0.68\n",
      "Кол. - во голосов:  11 f1_score :  0.56 , auc_roc :  0.81\n",
      "Кол. - во голосов:  21 f1_score :  0.58 , auc_roc :  0.82\n",
      "Кол. - во голосов:  31 f1_score :  0.57 , auc_roc :  0.83\n",
      "Кол. - во голосов:  41 f1_score :  0.59 , auc_roc :  0.83\n",
      "Кол. - во голосов:  51 f1_score :  0.59 , auc_roc :  0.83\n",
      "Кол. - во голосов:  61 f1_score :  0.6 , auc_roc :  0.84\n",
      "Кол. - во голосов:  71 f1_score :  0.6 , auc_roc :  0.84\n",
      "Кол. - во голосов:  81 f1_score :  0.6 , auc_roc :  0.84\n",
      "Кол. - во голосов:  91 f1_score :  0.6 , auc_roc :  0.84\n",
      "Кол. - во голосов:  101 f1_score :  0.6 , auc_roc :  0.84\n",
      "Кол. - во голосов:  111 f1_score :  0.59 , auc_roc :  0.84\n",
      "Кол. - во голосов:  121 f1_score :  0.6 , auc_roc :  0.84\n",
      "Кол. - во голосов:  131 f1_score :  0.6 , auc_roc :  0.84\n",
      "Кол. - во голосов:  141 f1_score :  0.6 , auc_roc :  0.84\n"
     ]
    }
   ],
   "source": [
    "# Случайный лес\n",
    "\n",
    "for i in range(1, 150,10):\n",
    "    RndForest_ups = RandomForestClassifier(random_state=12345, n_estimators = i)\n",
    "    RndForest_ups.fit(x_ups.drop(['Germany', 'Spain'], axis = 1), y_ups)\n",
    "    \n",
    "    predictions = RndForest_ups.predict(x_valid.drop(['Germany', 'Spain'], axis = 1))    \n",
    "    \n",
    "    probabilities_valid = RndForest_ups.predict_proba(x_valid.drop(['Germany', 'Spain'], axis = 1))\n",
    "    probabilities_one_valid = probabilities_valid[:, 1]\n",
    "\n",
    "    auc_roc = round(roc_auc_score(y_valid, probabilities_one_valid), 2)\n",
    "    \n",
    "\n",
    "    print('Кол. - во голосов: ', i, 'f1_score : ', round(f1_score(y_valid,predictions), 2), ', auc_roc : ', auc_roc)"
   ]
  },
  {
   "cell_type": "code",
   "execution_count": 133,
   "metadata": {},
   "outputs": [
    {
     "name": "stdout",
     "output_type": "stream",
     "text": [
      "f1_score :  0.45 , auc_roc :  0.72\n"
     ]
    }
   ],
   "source": [
    "# Логистическая регрессия\n",
    "\n",
    "LogReg_ups = LogisticRegression(random_state=12345, solver='liblinear')\n",
    "LogReg_ups.fit(x_ups.drop(['Geography'], axis = 1) , y_ups)\n",
    "\n",
    "predictions = LogReg_ups.predict(x_valid.drop(['Geography'], axis = 1))\n",
    "\n",
    "probabilities_valid = LogReg_ups.predict_proba(x_valid.drop(['Geography'], axis = 1))\n",
    "probabilities_one_valid = probabilities_valid[:, 1]\n",
    "\n",
    "auc_roc = round(roc_auc_score(y_valid, probabilities_one_valid), 2)\n",
    "\n",
    "print('f1_score : ', round(f1_score(y_valid,predictions), 2), ', auc_roc : ', auc_roc)"
   ]
  },
  {
   "cell_type": "markdown",
   "metadata": {},
   "source": [
    "#### Downsampling"
   ]
  },
  {
   "cell_type": "code",
   "execution_count": 134,
   "metadata": {},
   "outputs": [
    {
     "name": "stdout",
     "output_type": "stream",
     "text": [
      "max_depth =  1 f1_score :  0.51 , auc_roc :  0.7\n",
      "max_depth =  5 f1_score :  0.54 , auc_roc :  0.81\n",
      "max_depth =  9 f1_score :  0.52 , auc_roc :  0.76\n",
      "max_depth =  13 f1_score :  0.51 , auc_roc :  0.72\n",
      "max_depth =  17 f1_score :  0.49 , auc_roc :  0.71\n",
      "max_depth =  21 f1_score :  0.49 , auc_roc :  0.7\n",
      "max_depth =  25 f1_score :  0.49 , auc_roc :  0.7\n",
      "max_depth =  29 f1_score :  0.49 , auc_roc :  0.7\n",
      "max_depth =  33 f1_score :  0.49 , auc_roc :  0.7\n",
      "max_depth =  37 f1_score :  0.49 , auc_roc :  0.7\n"
     ]
    }
   ],
   "source": [
    "# Дерево решений\n",
    "\n",
    "for i in range (1, 40, 4):\n",
    "    DecTree_downsampling = DecisionTreeClassifier(random_state=12345, max_depth = i)\n",
    "    DecTree_downsampling.fit(x_dws.drop(['Germany', 'Spain'], axis = 1), y_dws)\n",
    "    \n",
    "    predictions = DecTree_downsampling.predict(x_valid.drop(['Germany', 'Spain'], axis = 1))\n",
    "    \n",
    "    probabilities_valid = DecTree_downsampling.predict_proba(x_valid.drop(['Germany', 'Spain'], axis = 1))\n",
    "    probabilities_one_valid = probabilities_valid[:, 1]\n",
    "\n",
    "    auc_roc = round(roc_auc_score(y_valid, probabilities_one_valid), 2)    \n",
    "    \n",
    "    print('max_depth = ', i, 'f1_score : ', round(f1_score(y_valid,predictions), 2), ', auc_roc : ', auc_roc)"
   ]
  },
  {
   "cell_type": "code",
   "execution_count": 135,
   "metadata": {},
   "outputs": [
    {
     "name": "stdout",
     "output_type": "stream",
     "text": [
      "Кол. - во голосов:  1 f1_score :  0.46 , auc_roc :  0.67\n",
      "Кол. - во голосов:  11 f1_score :  0.55 , auc_roc :  0.82\n",
      "Кол. - во голосов:  21 f1_score :  0.56 , auc_roc :  0.83\n",
      "Кол. - во голосов:  31 f1_score :  0.58 , auc_roc :  0.84\n",
      "Кол. - во голосов:  41 f1_score :  0.58 , auc_roc :  0.84\n",
      "Кол. - во голосов:  51 f1_score :  0.58 , auc_roc :  0.84\n",
      "Кол. - во голосов:  61 f1_score :  0.58 , auc_roc :  0.84\n",
      "Кол. - во голосов:  71 f1_score :  0.57 , auc_roc :  0.84\n",
      "Кол. - во голосов:  81 f1_score :  0.57 , auc_roc :  0.84\n",
      "Кол. - во голосов:  91 f1_score :  0.57 , auc_roc :  0.84\n",
      "Кол. - во голосов:  101 f1_score :  0.57 , auc_roc :  0.84\n",
      "Кол. - во голосов:  111 f1_score :  0.58 , auc_roc :  0.84\n",
      "Кол. - во голосов:  121 f1_score :  0.58 , auc_roc :  0.84\n",
      "Кол. - во голосов:  131 f1_score :  0.58 , auc_roc :  0.84\n",
      "Кол. - во голосов:  141 f1_score :  0.57 , auc_roc :  0.84\n"
     ]
    }
   ],
   "source": [
    "# Случайный лес\n",
    "\n",
    "for i in range(1, 150,10):\n",
    "    RndForest_dws = RandomForestClassifier(random_state=12345, n_estimators = i)\n",
    "    RndForest_dws.fit(x_dws.drop(['Germany', 'Spain'], axis = 1), y_dws)\n",
    "    \n",
    "    probabilities_valid = RndForest_dws.predict_proba(x_valid.drop(['Germany', 'Spain'], axis = 1))\n",
    "    probabilities_one_valid = probabilities_valid[:, 1]\n",
    "\n",
    "    auc_roc = round(roc_auc_score(y_valid, probabilities_one_valid), 2)\n",
    "    \n",
    "    predictions = RndForest_dws.predict(x_valid.drop(['Germany', 'Spain'], axis = 1))\n",
    "    print('Кол. - во голосов: ', i, 'f1_score : ', round(f1_score(y_valid,predictions), 2), ', auc_roc : ', auc_roc)"
   ]
  },
  {
   "cell_type": "code",
   "execution_count": 137,
   "metadata": {},
   "outputs": [
    {
     "name": "stdout",
     "output_type": "stream",
     "text": [
      "f1_score :  0.45 , auc_roc :  0.72\n"
     ]
    }
   ],
   "source": [
    "# Логистическая регрессия\n",
    "\n",
    "LogReg_dws = LogisticRegression(random_state=12345, solver='liblinear')\n",
    "LogReg_dws.fit(x_dws.drop(['Geography'], axis = 1) , y_dws)\n",
    "predictions = LogReg_dws.predict(x_valid.drop(['Geography'], axis = 1))\n",
    "\n",
    "probabilities_valid = LogReg_dws.predict_proba(x_valid.drop(['Geography'], axis = 1))\n",
    "probabilities_one_valid = probabilities_valid[:, 1]\n",
    "\n",
    "auc_roc = round(roc_auc_score(y_valid, probabilities_one_valid), 2)\n",
    "\n",
    "print('f1_score : ', round(f1_score(y_valid,predictions), 2), ', auc_roc : ', auc_roc)"
   ]
  },
  {
   "cell_type": "markdown",
   "metadata": {},
   "source": [
    "<font color = brown>**После балансировки классов целевого признака, ключевые метрики f1_score и auc_roc выросли по сравнению с обучением моделей на датасете с несбалансированнм целевым признаком, при этом результаты в методе upsampling выше, чем в методе downsampling.**   \n",
    "\n",
    "**Как и в предыдущем случае наилучшие результаты показала модель \"Случайный лес\".**</font>"
   ]
  },
  {
   "cell_type": "markdown",
   "metadata": {},
   "source": [
    "### 4. Тестирование модели"
   ]
  },
  {
   "cell_type": "code",
   "execution_count": 168,
   "metadata": {},
   "outputs": [
    {
     "name": "stdout",
     "output_type": "stream",
     "text": [
      "f1_score :  0.59 , auc_roc :  0.85\n"
     ]
    }
   ],
   "source": [
    "# UpSampling\n",
    "\n",
    "end_model = RandomForestClassifier(random_state = 12345, n_estimators = 100)\n",
    "# end_model.fit(feat_upsampling_data.drop(['Germany', 'Spain'], axis = 1), goal_upsampling_data)\n",
    "end_model.fit(x_ups.drop(['Germany', 'Spain'], axis = 1), y_ups)\n",
    "\n",
    "\n",
    "probabilities_valid = end_model.predict_proba(x_test.drop(['Germany', 'Spain'], axis = 1))\n",
    "probabilities_one_valid = probabilities_valid[:, 1]\n",
    "\n",
    "auc_roc = round(roc_auc_score(y_test, probabilities_one_valid), 2)\n",
    "\n",
    "predictions = end_model.predict(x_test.drop(['Germany', 'Spain'], axis = 1))\n",
    "print('f1_score : ', round(f1_score(y_test, predictions), 2), ', auc_roc : ', auc_roc)"
   ]
  },
  {
   "cell_type": "code",
   "execution_count": 169,
   "metadata": {},
   "outputs": [
    {
     "name": "stdout",
     "output_type": "stream",
     "text": [
      "f1_score :  0.56 , auc_roc :  0.84\n"
     ]
    }
   ],
   "source": [
    "# DownSampling\n",
    "\n",
    "end_model = RandomForestClassifier(random_state = 12345, n_estimators = 100)\n",
    "end_model.fit(x_dws.drop(['Germany', 'Spain'], axis = 1), y_dws)\n",
    "# end_model.fit(x_test.drop(['Germany', 'Spain'], axis = 1), y_test)\n",
    "\n",
    "\n",
    "probabilities_valid = end_model.predict_proba(x_test.drop(['Germany', 'Spain'], axis = 1))\n",
    "probabilities_one_valid = probabilities_valid[:, 1]\n",
    "\n",
    "auc_roc = round(roc_auc_score(y_test, probabilities_one_valid), 2)\n",
    "\n",
    "predictions = end_model.predict(x_test.drop(['Germany', 'Spain'], axis = 1))\n",
    "print('f1_score : ', round(f1_score(y_test, predictions), 2), ', auc_roc : ', auc_roc)"
   ]
  },
  {
   "cell_type": "code",
   "execution_count": 156,
   "metadata": {},
   "outputs": [
    {
     "data": {
      "image/png": "[encoded data removed]",
      "text/plain": [
       "<Figure size 432x288 with 1 Axes>"
      ]
     },
     "metadata": {
      "needs_background": "light"
     },
     "output_type": "display_data"
    }
   ],
   "source": [
    "# Определяем значимость признаков\n",
    "ddd = pd.DataFrame({'feature': list(x_test.drop(['Germany', 'Spain'], axis = 1).columns),\n",
    "                   'importance': end_model.feature_importances_}).\\\n",
    "                    sort_values('importance', ascending = False).plot(kind='bar', x='feature')\n",
    "plt.title('Значимость признаков');"
   ]
  },
  {
   "cell_type": "markdown",
   "metadata": {},
   "source": [
    "## Вывод\n",
    "\n",
    "<font color = brown>**По итогам выполненного проекта была получена модель с заданным по условию задачи значением метрики f1.**   \n",
    "**Значение указанной выше метрики, а также высокое знаечние метрики auc-roc, было достигнуто благодаря проведенной борьбе с дисбалансом классов целевого признака различными методами.**</font>\n"
   ]
  },
  {
   "cell_type": "code",
   "execution_count": null,
   "metadata": {},
   "outputs": [],
   "source": []
  }
 ],
 "metadata": {
  "kernelspec": {
   "display_name": "Python 3",
   "language": "python",
   "name": "python3"
  },
  "language_info": {
   "codemirror_mode": {
    "name": "ipython",
    "version": 3
   },
   "file_extension": ".py",
   "mimetype": "text/x-python",
   "name": "python",
   "nbconvert_exporter": "python",
   "pygments_lexer": "ipython3",
   "version": "3.7.6"
  }
 },
 "nbformat": 4,
 "nbformat_minor": 2
}
